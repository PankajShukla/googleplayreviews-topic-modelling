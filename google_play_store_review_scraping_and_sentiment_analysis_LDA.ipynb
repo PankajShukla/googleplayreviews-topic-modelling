{
 "cells": [
  {
   "cell_type": "markdown",
   "metadata": {},
   "source": [
    "# Libraries"
   ]
  },
  {
   "cell_type": "code",
   "execution_count": null,
   "metadata": {},
   "outputs": [],
   "source": [
    "!pip install google_play_scraper\n",
    "!pip install sklearn\n",
    "\n",
    "import pandas as pd\n",
    "from google_play_scraper.features.reviews import Sort, reviews_all, reviews\n",
    "from sklearn.feature_extraction.text import CountVectorizer\n",
    "from sklearn.decomposition import LatentDirichletAllocation\n"
   ]
  },
  {
   "cell_type": "code",
   "execution_count": 280,
   "metadata": {},
   "outputs": [],
   "source": []
  },
  {
   "cell_type": "markdown",
   "metadata": {},
   "source": [
    "# Reviews data extraction"
   ]
  },
  {
   "cell_type": "code",
   "execution_count": 293,
   "metadata": {},
   "outputs": [],
   "source": [
    "result = reviews_all('com.bt.bms',sleep_milliseconds=0,lang='en', country='us')"
   ]
  },
  {
   "cell_type": "markdown",
   "metadata": {},
   "source": [
    "# Create dataframe of the reviews"
   ]
  },
  {
   "cell_type": "code",
   "execution_count": 294,
   "metadata": {},
   "outputs": [],
   "source": [
    "df = pd.DataFrame(result)"
   ]
  },
  {
   "cell_type": "code",
   "execution_count": 295,
   "metadata": {},
   "outputs": [
    {
     "data": {
      "text/html": [
       "<div>\n",
       "<style scoped>\n",
       "    .dataframe tbody tr th:only-of-type {\n",
       "        vertical-align: middle;\n",
       "    }\n",
       "\n",
       "    .dataframe tbody tr th {\n",
       "        vertical-align: top;\n",
       "    }\n",
       "\n",
       "    .dataframe thead th {\n",
       "        text-align: right;\n",
       "    }\n",
       "</style>\n",
       "<table border=\"1\" class=\"dataframe\">\n",
       "  <thead>\n",
       "    <tr style=\"text-align: right;\">\n",
       "      <th></th>\n",
       "      <th>at</th>\n",
       "      <th>content</th>\n",
       "      <th>repliedAt</th>\n",
       "      <th>replyContent</th>\n",
       "      <th>reviewCreatedVersion</th>\n",
       "      <th>reviewId</th>\n",
       "      <th>score</th>\n",
       "      <th>thumbsUpCount</th>\n",
       "      <th>userImage</th>\n",
       "      <th>userName</th>\n",
       "    </tr>\n",
       "  </thead>\n",
       "  <tbody>\n",
       "    <tr>\n",
       "      <th>0</th>\n",
       "      <td>2020-07-30 00:09:15</td>\n",
       "      <td>Good App for booking movie tickets.</td>\n",
       "      <td>2020-07-30 06:02:40</td>\n",
       "      <td>Thanks for the 5 star rating, we much apprecia...</td>\n",
       "      <td>7.0.0</td>\n",
       "      <td>lg:AOqpTOHGjnDzrMs6OFCzH5ifiZgAN8HrxLvxB7WTw2w...</td>\n",
       "      <td>5</td>\n",
       "      <td>1</td>\n",
       "      <td>https://lh3.googleusercontent.com/EGemoI2NTXmT...</td>\n",
       "      <td>A Google user</td>\n",
       "    </tr>\n",
       "    <tr>\n",
       "      <th>1</th>\n",
       "      <td>2020-07-29 15:20:00</td>\n",
       "      <td>are you serious? the app gave me a notificatio...</td>\n",
       "      <td>2020-07-29 16:15:30</td>\n",
       "      <td>Hi Anurag, we didn't mean to disappoint you an...</td>\n",
       "      <td>5.1.3</td>\n",
       "      <td>gp:AOqpTOEMfJKXVKHVdwddDi3Yelseu8EqVwljqMW53MY...</td>\n",
       "      <td>1</td>\n",
       "      <td>0</td>\n",
       "      <td>https://lh3.googleusercontent.com/a-/AOh14GgLn...</td>\n",
       "      <td>Anurag Gopi</td>\n",
       "    </tr>\n",
       "  </tbody>\n",
       "</table>\n",
       "</div>"
      ],
      "text/plain": [
       "                   at                                            content  \\\n",
       "0 2020-07-30 00:09:15                Good App for booking movie tickets.   \n",
       "1 2020-07-29 15:20:00  are you serious? the app gave me a notificatio...   \n",
       "\n",
       "            repliedAt                                       replyContent  \\\n",
       "0 2020-07-30 06:02:40  Thanks for the 5 star rating, we much apprecia...   \n",
       "1 2020-07-29 16:15:30  Hi Anurag, we didn't mean to disappoint you an...   \n",
       "\n",
       "  reviewCreatedVersion                                           reviewId  \\\n",
       "0                7.0.0  lg:AOqpTOHGjnDzrMs6OFCzH5ifiZgAN8HrxLvxB7WTw2w...   \n",
       "1                5.1.3  gp:AOqpTOEMfJKXVKHVdwddDi3Yelseu8EqVwljqMW53MY...   \n",
       "\n",
       "   score  thumbsUpCount                                          userImage  \\\n",
       "0      5              1  https://lh3.googleusercontent.com/EGemoI2NTXmT...   \n",
       "1      1              0  https://lh3.googleusercontent.com/a-/AOh14GgLn...   \n",
       "\n",
       "        userName  \n",
       "0  A Google user  \n",
       "1    Anurag Gopi  "
      ]
     },
     "execution_count": 295,
     "metadata": {},
     "output_type": "execute_result"
    }
   ],
   "source": [
    "df.head(2)"
   ]
  },
  {
   "cell_type": "code",
   "execution_count": 296,
   "metadata": {},
   "outputs": [
    {
     "name": "stdout",
     "output_type": "stream",
     "text": [
      "Total textual reviews: 233202 \n",
      "\n",
      "Total unique users : 179630\n",
      "Total unknown users: 28231\n",
      "Total users who gave multiple reviews: 25341\n",
      "\n",
      "Average rating for this app based on the textual reviews: 3.99 \n",
      "\n"
     ]
    }
   ],
   "source": [
    "print(f'Total textual reviews: {len(result)} \\n')\n",
    "\n",
    "unique_users  = len(df['userName'].unique())\n",
    "unknown_users = len(df[df['userName']=='A Google user'])\n",
    "total_reviews = len(df)\n",
    "\n",
    "print(f'Total unique users : {unique_users}')\n",
    "print(f'Total unknown users: {unknown_users}')\n",
    "print(f'Total users who gave multiple reviews: {total_reviews - unique_users - unknown_users}\\n')\n",
    "\n",
    "\n",
    "mean = df['score'].mean()\n",
    "print(f'Average rating for this app based on the textual reviews: {round(mean,2)} \\n')"
   ]
  },
  {
   "cell_type": "markdown",
   "metadata": {},
   "source": [
    "# Extract all reviews with rating below 4"
   ]
  },
  {
   "cell_type": "code",
   "execution_count": 403,
   "metadata": {},
   "outputs": [],
   "source": [
    "df_tm = df[df['score']<=3]\n",
    "df_tm = df_tm[df_tm.content.str.len()>=30]\n",
    "print(f'Remaining textual reviews: {len(df_tm)} \\n')"
   ]
  },
  {
   "cell_type": "code",
   "execution_count": 405,
   "metadata": {},
   "outputs": [
    {
     "name": "stdout",
     "output_type": "stream",
     "text": [
      "Remaining textual reviews: 37996 \n",
      "\n"
     ]
    }
   ],
   "source": []
  },
  {
   "cell_type": "markdown",
   "metadata": {},
   "source": [
    "# Get the relevant columns for topic modelling"
   ]
  },
  {
   "cell_type": "code",
   "execution_count": 406,
   "metadata": {},
   "outputs": [],
   "source": [
    "df_tm = df_tm[['reviewId','content']].drop_duplicates()\n",
    "df_tm.dropna(inplace=True)\n",
    "df_tm = df_tm.reset_index().drop(columns='index')\n",
    "print(f'Remaining textual reviews: {len(df_tm)} \\n')"
   ]
  },
  {
   "cell_type": "code",
   "execution_count": 407,
   "metadata": {},
   "outputs": [
    {
     "name": "stdout",
     "output_type": "stream",
     "text": [
      "Remaining textual reviews: 37996 \n",
      "\n"
     ]
    }
   ],
   "source": []
  },
  {
   "cell_type": "markdown",
   "metadata": {},
   "source": [
    "# Create document term matrix of the reviews"
   ]
  },
  {
   "cell_type": "code",
   "execution_count": 409,
   "metadata": {},
   "outputs": [],
   "source": [
    "cv = CountVectorizer(max_df=0.95, min_df=2, stop_words='english')\n",
    "\n",
    "# max_df : discard words that occur more than 95% documents\n",
    "# min_df : include only those words that occur atleast in 2 documents"
   ]
  },
  {
   "cell_type": "code",
   "execution_count": 410,
   "metadata": {},
   "outputs": [],
   "source": [
    "dtm = cv.fit_transform(df_tm['content'])"
   ]
  },
  {
   "cell_type": "code",
   "execution_count": 468,
   "metadata": {},
   "outputs": [
    {
     "data": {
      "text/plain": [
       "<37996x8839 sparse matrix of type '<class 'numpy.int64'>'\n",
       "\twith 381346 stored elements in Compressed Sparse Row format>"
      ]
     },
     "execution_count": 468,
     "metadata": {},
     "output_type": "execute_result"
    }
   ],
   "source": [
    "dtm\n",
    "#shows 8839 terms and 37996 articles"
   ]
  },
  {
   "cell_type": "code",
   "execution_count": 412,
   "metadata": {},
   "outputs": [
    {
     "data": {
      "text/plain": [
       "8839"
      ]
     },
     "execution_count": 412,
     "metadata": {},
     "output_type": "execute_result"
    }
   ],
   "source": [
    "len(cv.get_feature_names())"
   ]
  },
  {
   "cell_type": "markdown",
   "metadata": {},
   "source": [
    "# Using LDA for topic modelling"
   ]
  },
  {
   "cell_type": "code",
   "execution_count": 413,
   "metadata": {},
   "outputs": [
    {
     "data": {
      "text/plain": [
       "LatentDirichletAllocation(batch_size=128, doc_topic_prior=None,\n",
       "                          evaluate_every=-1, learning_decay=0.7,\n",
       "                          learning_method='batch', learning_offset=10.0,\n",
       "                          max_doc_update_iter=100, max_iter=10,\n",
       "                          mean_change_tol=0.001, n_components=5, n_jobs=None,\n",
       "                          perp_tol=0.1, random_state=1, topic_word_prior=None,\n",
       "                          total_samples=1000000.0, verbose=0)"
      ]
     },
     "execution_count": 413,
     "metadata": {},
     "output_type": "execute_result"
    }
   ],
   "source": [
    "LDA = LatentDirichletAllocation(n_components=5,random_state=1)\n",
    "\n",
    "LDA.fit(dtm)"
   ]
  },
  {
   "cell_type": "code",
   "execution_count": null,
   "metadata": {},
   "outputs": [],
   "source": []
  },
  {
   "cell_type": "markdown",
   "metadata": {},
   "source": [
    "# Extract data"
   ]
  },
  {
   "cell_type": "code",
   "execution_count": 471,
   "metadata": {},
   "outputs": [
    {
     "name": "stdout",
     "output_type": "stream",
     "text": [
      "topic #0 : \n",
      "['rating', 'convenience', 'charging', 'people', 'book', 'movie', 'extra', 'fees', 'fee', 'tickets', 'offers', 'good', 'charge', 'ticket', 'booking', 'high', 'app', 'handling', 'charges', 'internet']\n",
      "topic #1 : \n",
      "['able', 'card', 'fix', 'problem', 'offers', 'unable', 'shows', 'tried', 'doesn', 'work', 'times', 'book', 'payment', 'try', 'offer', 'open', 'working', 'error', 'time', 'app']\n",
      "topic #2 : \n",
      "['download', 'don', 'like', 'updated', 'slow', 'previous', 'bad', 'phone', 'old', 'user', 'hai', 'need', 'latest', 'good', 'better', 'worst', 'new', 'version', 'update', 'app']\n",
      "topic #3 : \n",
      "['care', 'deducted', 'didn', 'account', 'transaction', 'time', 'movie', 'service', 'payment', 'got', 'refund', 'worst', 'customer', 'booking', 'book', 'app', 'booked', 'ticket', 'money', 'tickets']\n",
      "topic #4 : \n",
      "['add', 'cancellation', 'cinema', 'able', 'theatre', 'good', 'seat', 'ticket', 'location', 'shows', 'movies', 'showing', 'booking', 'available', 'seats', 'option', 'movie', 'book', 'tickets', 'app']\n"
     ]
    }
   ],
   "source": [
    "for index,topic in enumerate(LDA.components_):\n",
    "    print(f'topic #{index} : ')\n",
    "    print([cv.get_feature_names()[i] for i in topic.argsort()[-20:]])"
   ]
  },
  {
   "cell_type": "code",
   "execution_count": null,
   "metadata": {},
   "outputs": [],
   "source": []
  },
  {
   "cell_type": "code",
   "execution_count": null,
   "metadata": {},
   "outputs": [],
   "source": []
  },
  {
   "cell_type": "markdown",
   "metadata": {},
   "source": [
    "0. App/OverallExp\n",
    "1. Delivery-CommitmentIssue\n",
    "2. FoodQuality\n",
    "3. Offers\n",
    "4. App/Coupons\n",
    "5. Delivery-RestaurantIssue\n",
    "6. CustomerSupport\n",
    "7. Competitors\n",
    "8. Refund-ChatSupport\n",
    "9. Refund-Cancellation"
   ]
  },
  {
   "cell_type": "code",
   "execution_count": 416,
   "metadata": {},
   "outputs": [],
   "source": [
    "topic_results = LDA.transform(dtm)"
   ]
  },
  {
   "cell_type": "code",
   "execution_count": 417,
   "metadata": {},
   "outputs": [
    {
     "data": {
      "text/plain": [
       "array([[0.01712729, 0.0174859 , 0.25014487, 0.01756706, 0.69767487],\n",
       "       [0.75641496, 0.02506515, 0.16804106, 0.025339  , 0.02513982],\n",
       "       [0.02508926, 0.02534895, 0.89876985, 0.02542457, 0.02536738],\n",
       "       ...,\n",
       "       [0.02609256, 0.02558532, 0.02587528, 0.17860603, 0.74384082],\n",
       "       [0.01726216, 0.54357687, 0.01717501, 0.0174214 , 0.40456456],\n",
       "       [0.01007858, 0.34969724, 0.37805311, 0.10358898, 0.15858208]])"
      ]
     },
     "execution_count": 417,
     "metadata": {},
     "output_type": "execute_result"
    }
   ],
   "source": [
    "topic_results"
   ]
  },
  {
   "cell_type": "code",
   "execution_count": 456,
   "metadata": {},
   "outputs": [],
   "source": [
    "\n",
    "df_topic_results = pd.DataFrame(topic_results, columns=[\n",
    "'0_InternetCharges',\n",
    "'1_Payment/Offers' ,\n",
    "'2_App'            ,\n",
    "'3_Booking-Refund/Ticket'  ,\n",
    "'4_Booking-Location/language' \n",
    "])"
   ]
  },
  {
   "cell_type": "code",
   "execution_count": null,
   "metadata": {},
   "outputs": [],
   "source": []
  },
  {
   "cell_type": "code",
   "execution_count": 457,
   "metadata": {},
   "outputs": [
    {
     "data": {
      "text/html": [
       "<div>\n",
       "<style scoped>\n",
       "    .dataframe tbody tr th:only-of-type {\n",
       "        vertical-align: middle;\n",
       "    }\n",
       "\n",
       "    .dataframe tbody tr th {\n",
       "        vertical-align: top;\n",
       "    }\n",
       "\n",
       "    .dataframe thead th {\n",
       "        text-align: right;\n",
       "    }\n",
       "</style>\n",
       "<table border=\"1\" class=\"dataframe\">\n",
       "  <thead>\n",
       "    <tr style=\"text-align: right;\">\n",
       "      <th></th>\n",
       "      <th>0_InternetCharges</th>\n",
       "      <th>1_Payment/Offers</th>\n",
       "      <th>2_App</th>\n",
       "      <th>3_Booking-Refund/Ticket</th>\n",
       "      <th>4_Booking-Location/language</th>\n",
       "    </tr>\n",
       "  </thead>\n",
       "  <tbody>\n",
       "    <tr>\n",
       "      <th>0</th>\n",
       "      <td>0.017127</td>\n",
       "      <td>0.017486</td>\n",
       "      <td>0.250145</td>\n",
       "      <td>0.017567</td>\n",
       "      <td>0.697675</td>\n",
       "    </tr>\n",
       "    <tr>\n",
       "      <th>1</th>\n",
       "      <td>0.756415</td>\n",
       "      <td>0.025065</td>\n",
       "      <td>0.168041</td>\n",
       "      <td>0.025339</td>\n",
       "      <td>0.025140</td>\n",
       "    </tr>\n",
       "    <tr>\n",
       "      <th>2</th>\n",
       "      <td>0.025089</td>\n",
       "      <td>0.025349</td>\n",
       "      <td>0.898770</td>\n",
       "      <td>0.025425</td>\n",
       "      <td>0.025367</td>\n",
       "    </tr>\n",
       "  </tbody>\n",
       "</table>\n",
       "</div>"
      ],
      "text/plain": [
       "   0_InternetCharges  1_Payment/Offers     2_App  3_Booking-Refund/Ticket  \\\n",
       "0           0.017127          0.017486  0.250145                 0.017567   \n",
       "1           0.756415          0.025065  0.168041                 0.025339   \n",
       "2           0.025089          0.025349  0.898770                 0.025425   \n",
       "\n",
       "   4_Booking-Location/language  \n",
       "0                     0.697675  \n",
       "1                     0.025140  \n",
       "2                     0.025367  "
      ]
     },
     "execution_count": 457,
     "metadata": {},
     "output_type": "execute_result"
    }
   ],
   "source": [
    "df_topic_results.head(3)"
   ]
  },
  {
   "cell_type": "code",
   "execution_count": 458,
   "metadata": {},
   "outputs": [],
   "source": [
    "df_result = pd.merge(df_tm,df_topic_results,  how='inner', left_index=True, right_index=True )"
   ]
  },
  {
   "cell_type": "code",
   "execution_count": 459,
   "metadata": {},
   "outputs": [
    {
     "data": {
      "text/plain": [
       "'Extremely regressive booking process.'"
      ]
     },
     "execution_count": 459,
     "metadata": {},
     "output_type": "execute_result"
    }
   ],
   "source": [
    "df_result.drop(columns='reviewId').iloc[175,]['content']"
   ]
  },
  {
   "cell_type": "code",
   "execution_count": null,
   "metadata": {},
   "outputs": [],
   "source": []
  },
  {
   "cell_type": "code",
   "execution_count": 464,
   "metadata": {},
   "outputs": [],
   "source": [
    "df_output = pd.merge(df, df_result,  how='left', on=[ 'reviewId','content' ])"
   ]
  },
  {
   "cell_type": "code",
   "execution_count": 465,
   "metadata": {},
   "outputs": [
    {
     "data": {
      "text/plain": [
       "233202"
      ]
     },
     "execution_count": 465,
     "metadata": {},
     "output_type": "execute_result"
    }
   ],
   "source": [
    "len(df_output)"
   ]
  },
  {
   "cell_type": "code",
   "execution_count": 466,
   "metadata": {},
   "outputs": [],
   "source": [
    "df_output.to_csv('app_reviews_bms.csv')"
   ]
  },
  {
   "cell_type": "code",
   "execution_count": null,
   "metadata": {},
   "outputs": [],
   "source": []
  },
  {
   "cell_type": "code",
   "execution_count": null,
   "metadata": {},
   "outputs": [],
   "source": []
  },
  {
   "cell_type": "code",
   "execution_count": null,
   "metadata": {},
   "outputs": [],
   "source": []
  }
 ],
 "metadata": {
  "kernelspec": {
   "display_name": "Python 3",
   "language": "python",
   "name": "python3"
  },
  "language_info": {
   "codemirror_mode": {
    "name": "ipython",
    "version": 3
   },
   "file_extension": ".py",
   "mimetype": "text/x-python",
   "name": "python",
   "nbconvert_exporter": "python",
   "pygments_lexer": "ipython3",
   "version": "3.7.3"
  }
 },
 "nbformat": 4,
 "nbformat_minor": 2
}
